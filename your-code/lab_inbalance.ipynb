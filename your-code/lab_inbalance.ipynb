{
 "cells": [
  {
   "cell_type": "markdown",
   "metadata": {},
   "source": [
    "# Inbalanced Classes\n",
    "## In this lab, we are going to explore a case of imbalanced classes. \n",
    "\n",
    "\n",
    "Like we disussed in class, when we have noisy data, if we are not careful, we can end up fitting our model to the noise in the data and not the 'signal'-- the factors that actually determine the outcome. This is called overfitting, and results in good results in training, and in bad results when the model is applied to real data. Similarly, we could have a model that is too simplistic to accurately model the signal. This produces a model that doesnt work well (ever). \n"
   ]
  },
  {
   "cell_type": "markdown",
   "metadata": {},
   "source": [
    "### First, download the data from: https://www.kaggle.com/ntnu-testimon/paysim1. Import the dataset and provide some discriptive statistics and plots. What do you think will be the important features in determining the outcome?"
   ]
  },
  {
   "cell_type": "code",
   "execution_count": 1,
   "metadata": {},
   "outputs": [
    {
     "data": {
      "text/html": [
       "<div>\n",
       "<style scoped>\n",
       "    .dataframe tbody tr th:only-of-type {\n",
       "        vertical-align: middle;\n",
       "    }\n",
       "\n",
       "    .dataframe tbody tr th {\n",
       "        vertical-align: top;\n",
       "    }\n",
       "\n",
       "    .dataframe thead th {\n",
       "        text-align: right;\n",
       "    }\n",
       "</style>\n",
       "<table border=\"1\" class=\"dataframe\">\n",
       "  <thead>\n",
       "    <tr style=\"text-align: right;\">\n",
       "      <th></th>\n",
       "      <th>step</th>\n",
       "      <th>type</th>\n",
       "      <th>amount</th>\n",
       "      <th>nameOrig</th>\n",
       "      <th>oldbalanceOrg</th>\n",
       "      <th>newbalanceOrig</th>\n",
       "      <th>nameDest</th>\n",
       "      <th>oldbalanceDest</th>\n",
       "      <th>newbalanceDest</th>\n",
       "      <th>isFraud</th>\n",
       "      <th>isFlaggedFraud</th>\n",
       "    </tr>\n",
       "  </thead>\n",
       "  <tbody>\n",
       "    <tr>\n",
       "      <td>1517022</td>\n",
       "      <td>153</td>\n",
       "      <td>PAYMENT</td>\n",
       "      <td>24678.78</td>\n",
       "      <td>C2100105279</td>\n",
       "      <td>0.00</td>\n",
       "      <td>0.00</td>\n",
       "      <td>M2141341336</td>\n",
       "      <td>0.00</td>\n",
       "      <td>0.00</td>\n",
       "      <td>0</td>\n",
       "      <td>0</td>\n",
       "    </tr>\n",
       "    <tr>\n",
       "      <td>1009117</td>\n",
       "      <td>46</td>\n",
       "      <td>CASH_IN</td>\n",
       "      <td>19866.49</td>\n",
       "      <td>C1152178406</td>\n",
       "      <td>3349986.53</td>\n",
       "      <td>3369853.02</td>\n",
       "      <td>C885597205</td>\n",
       "      <td>65976.05</td>\n",
       "      <td>46109.56</td>\n",
       "      <td>0</td>\n",
       "      <td>0</td>\n",
       "    </tr>\n",
       "    <tr>\n",
       "      <td>4393873</td>\n",
       "      <td>321</td>\n",
       "      <td>PAYMENT</td>\n",
       "      <td>4333.88</td>\n",
       "      <td>C1244537166</td>\n",
       "      <td>169473.81</td>\n",
       "      <td>165139.93</td>\n",
       "      <td>M1839816641</td>\n",
       "      <td>0.00</td>\n",
       "      <td>0.00</td>\n",
       "      <td>0</td>\n",
       "      <td>0</td>\n",
       "    </tr>\n",
       "    <tr>\n",
       "      <td>2697318</td>\n",
       "      <td>211</td>\n",
       "      <td>PAYMENT</td>\n",
       "      <td>20413.45</td>\n",
       "      <td>C1785898552</td>\n",
       "      <td>51128.00</td>\n",
       "      <td>30714.55</td>\n",
       "      <td>M1567781138</td>\n",
       "      <td>0.00</td>\n",
       "      <td>0.00</td>\n",
       "      <td>0</td>\n",
       "      <td>0</td>\n",
       "    </tr>\n",
       "    <tr>\n",
       "      <td>4321617</td>\n",
       "      <td>308</td>\n",
       "      <td>PAYMENT</td>\n",
       "      <td>38136.21</td>\n",
       "      <td>C544753471</td>\n",
       "      <td>78620.00</td>\n",
       "      <td>40483.79</td>\n",
       "      <td>M1039669999</td>\n",
       "      <td>0.00</td>\n",
       "      <td>0.00</td>\n",
       "      <td>0</td>\n",
       "      <td>0</td>\n",
       "    </tr>\n",
       "  </tbody>\n",
       "</table>\n",
       "</div>"
      ],
      "text/plain": [
       "         step     type    amount     nameOrig  oldbalanceOrg  newbalanceOrig  \\\n",
       "1517022   153  PAYMENT  24678.78  C2100105279           0.00            0.00   \n",
       "1009117    46  CASH_IN  19866.49  C1152178406     3349986.53      3369853.02   \n",
       "4393873   321  PAYMENT   4333.88  C1244537166      169473.81       165139.93   \n",
       "2697318   211  PAYMENT  20413.45  C1785898552       51128.00        30714.55   \n",
       "4321617   308  PAYMENT  38136.21   C544753471       78620.00        40483.79   \n",
       "\n",
       "            nameDest  oldbalanceDest  newbalanceDest  isFraud  isFlaggedFraud  \n",
       "1517022  M2141341336            0.00            0.00        0               0  \n",
       "1009117   C885597205        65976.05        46109.56        0               0  \n",
       "4393873  M1839816641            0.00            0.00        0               0  \n",
       "2697318  M1567781138            0.00            0.00        0               0  \n",
       "4321617  M1039669999            0.00            0.00        0               0  "
      ]
     },
     "execution_count": 1,
     "metadata": {},
     "output_type": "execute_result"
    }
   ],
   "source": [
    "# Your code here\n",
    "import pandas as pd\n",
    "import numpy as np\n",
    "\n",
    "data = pd.read_csv('PS_20174392719_1491204439457_log.csv')\n",
    "\n",
    "data = data.sample(n=100000)\n",
    "data.head(5)"
   ]
  },
  {
   "cell_type": "code",
   "execution_count": 2,
   "metadata": {},
   "outputs": [
    {
     "data": {
      "text/plain": [
       "(100000, 11)"
      ]
     },
     "execution_count": 2,
     "metadata": {},
     "output_type": "execute_result"
    }
   ],
   "source": [
    "data.shape"
   ]
  },
  {
   "cell_type": "code",
   "execution_count": 3,
   "metadata": {},
   "outputs": [
    {
     "name": "stdout",
     "output_type": "stream",
     "text": [
      "step              0\n",
      "type              0\n",
      "amount            0\n",
      "nameOrig          0\n",
      "oldbalanceOrg     0\n",
      "newbalanceOrig    0\n",
      "nameDest          0\n",
      "oldbalanceDest    0\n",
      "newbalanceDest    0\n",
      "isFraud           0\n",
      "isFlaggedFraud    0\n",
      "dtype: int64\n"
     ]
    }
   ],
   "source": [
    "dsnull = data.isnull().sum()\n",
    "print(dsnull) # data.isnull().values.any()"
   ]
  },
  {
   "cell_type": "code",
   "execution_count": 4,
   "metadata": {},
   "outputs": [
    {
     "data": {
      "text/html": [
       "<div>\n",
       "<style scoped>\n",
       "    .dataframe tbody tr th:only-of-type {\n",
       "        vertical-align: middle;\n",
       "    }\n",
       "\n",
       "    .dataframe tbody tr th {\n",
       "        vertical-align: top;\n",
       "    }\n",
       "\n",
       "    .dataframe thead th {\n",
       "        text-align: right;\n",
       "    }\n",
       "</style>\n",
       "<table border=\"1\" class=\"dataframe\">\n",
       "  <thead>\n",
       "    <tr style=\"text-align: right;\">\n",
       "      <th></th>\n",
       "      <th>step</th>\n",
       "      <th>amount</th>\n",
       "      <th>oldbalanceOrg</th>\n",
       "      <th>newbalanceOrig</th>\n",
       "      <th>oldbalanceDest</th>\n",
       "      <th>newbalanceDest</th>\n",
       "      <th>isFraud</th>\n",
       "      <th>isFlaggedFraud</th>\n",
       "    </tr>\n",
       "  </thead>\n",
       "  <tbody>\n",
       "    <tr>\n",
       "      <td>step</td>\n",
       "      <td>1.000000</td>\n",
       "      <td>0.019710</td>\n",
       "      <td>-0.011078</td>\n",
       "      <td>-0.011316</td>\n",
       "      <td>0.025709</td>\n",
       "      <td>0.023710</td>\n",
       "      <td>0.024895</td>\n",
       "      <td>0.004036</td>\n",
       "    </tr>\n",
       "    <tr>\n",
       "      <td>amount</td>\n",
       "      <td>0.019710</td>\n",
       "      <td>1.000000</td>\n",
       "      <td>-0.002161</td>\n",
       "      <td>-0.007374</td>\n",
       "      <td>0.314773</td>\n",
       "      <td>0.487807</td>\n",
       "      <td>0.081400</td>\n",
       "      <td>0.049605</td>\n",
       "    </tr>\n",
       "    <tr>\n",
       "      <td>oldbalanceOrg</td>\n",
       "      <td>-0.011078</td>\n",
       "      <td>-0.002161</td>\n",
       "      <td>1.000000</td>\n",
       "      <td>0.998730</td>\n",
       "      <td>0.072119</td>\n",
       "      <td>0.047360</td>\n",
       "      <td>0.011145</td>\n",
       "      <td>0.020836</td>\n",
       "    </tr>\n",
       "    <tr>\n",
       "      <td>newbalanceOrig</td>\n",
       "      <td>-0.011316</td>\n",
       "      <td>-0.007374</td>\n",
       "      <td>0.998730</td>\n",
       "      <td>1.000000</td>\n",
       "      <td>0.073669</td>\n",
       "      <td>0.046752</td>\n",
       "      <td>-0.008018</td>\n",
       "      <td>0.020551</td>\n",
       "    </tr>\n",
       "    <tr>\n",
       "      <td>oldbalanceDest</td>\n",
       "      <td>0.025709</td>\n",
       "      <td>0.314773</td>\n",
       "      <td>0.072119</td>\n",
       "      <td>0.073669</td>\n",
       "      <td>1.000000</td>\n",
       "      <td>0.974350</td>\n",
       "      <td>-0.000154</td>\n",
       "      <td>-0.001032</td>\n",
       "    </tr>\n",
       "    <tr>\n",
       "      <td>newbalanceDest</td>\n",
       "      <td>0.023710</td>\n",
       "      <td>0.487807</td>\n",
       "      <td>0.047360</td>\n",
       "      <td>0.046752</td>\n",
       "      <td>0.974350</td>\n",
       "      <td>1.000000</td>\n",
       "      <td>0.009180</td>\n",
       "      <td>-0.001055</td>\n",
       "    </tr>\n",
       "    <tr>\n",
       "      <td>isFraud</td>\n",
       "      <td>0.024895</td>\n",
       "      <td>0.081400</td>\n",
       "      <td>0.011145</td>\n",
       "      <td>-0.008018</td>\n",
       "      <td>-0.000154</td>\n",
       "      <td>0.009180</td>\n",
       "      <td>1.000000</td>\n",
       "      <td>0.092396</td>\n",
       "    </tr>\n",
       "    <tr>\n",
       "      <td>isFlaggedFraud</td>\n",
       "      <td>0.004036</td>\n",
       "      <td>0.049605</td>\n",
       "      <td>0.020836</td>\n",
       "      <td>0.020551</td>\n",
       "      <td>-0.001032</td>\n",
       "      <td>-0.001055</td>\n",
       "      <td>0.092396</td>\n",
       "      <td>1.000000</td>\n",
       "    </tr>\n",
       "  </tbody>\n",
       "</table>\n",
       "</div>"
      ],
      "text/plain": [
       "                    step    amount  oldbalanceOrg  newbalanceOrig  \\\n",
       "step            1.000000  0.019710      -0.011078       -0.011316   \n",
       "amount          0.019710  1.000000      -0.002161       -0.007374   \n",
       "oldbalanceOrg  -0.011078 -0.002161       1.000000        0.998730   \n",
       "newbalanceOrig -0.011316 -0.007374       0.998730        1.000000   \n",
       "oldbalanceDest  0.025709  0.314773       0.072119        0.073669   \n",
       "newbalanceDest  0.023710  0.487807       0.047360        0.046752   \n",
       "isFraud         0.024895  0.081400       0.011145       -0.008018   \n",
       "isFlaggedFraud  0.004036  0.049605       0.020836        0.020551   \n",
       "\n",
       "                oldbalanceDest  newbalanceDest   isFraud  isFlaggedFraud  \n",
       "step                  0.025709        0.023710  0.024895        0.004036  \n",
       "amount                0.314773        0.487807  0.081400        0.049605  \n",
       "oldbalanceOrg         0.072119        0.047360  0.011145        0.020836  \n",
       "newbalanceOrig        0.073669        0.046752 -0.008018        0.020551  \n",
       "oldbalanceDest        1.000000        0.974350 -0.000154       -0.001032  \n",
       "newbalanceDest        0.974350        1.000000  0.009180       -0.001055  \n",
       "isFraud              -0.000154        0.009180  1.000000        0.092396  \n",
       "isFlaggedFraud       -0.001032       -0.001055  0.092396        1.000000  "
      ]
     },
     "execution_count": 4,
     "metadata": {},
     "output_type": "execute_result"
    }
   ],
   "source": [
    "data.corr()"
   ]
  },
  {
   "cell_type": "code",
   "execution_count": 5,
   "metadata": {},
   "outputs": [
    {
     "data": {
      "text/plain": [
       "<matplotlib.axes._subplots.AxesSubplot at 0x1ea020bc948>"
      ]
     },
     "execution_count": 5,
     "metadata": {},
     "output_type": "execute_result"
    }
   ],
   "source": [
    "import seaborn as sns\n",
    "\n",
    "correlation = data.corr()\n",
    "sns.heatmap(correlation, cmap='Greens')"
   ]
  },
  {
   "cell_type": "code",
   "execution_count": 6,
   "metadata": {},
   "outputs": [
    {
     "data": {
      "image/png": "[encoded data removed]",
      "text/plain": [
       "<Figure size 432x288 with 1 Axes>"
      ]
     },
     "metadata": {
      "needs_background": "light"
     },
     "output_type": "display_data"
    }
   ],
   "source": [
    "import matplotlib.pyplot as plt\n",
    "from sklearn.linear_model import LinearRegression\n",
    "\n",
    "X = data['oldbalanceOrg'].values.reshape(-1, 1)\n",
    "y = data['newbalanceOrig'].values.reshape(-1, 1)\n",
    "\n",
    "\n",
    "model = LinearRegression()\n",
    "model.fit(X, y)\n",
    "y_pred = model.predict(X)\n",
    "\n",
    "plt.scatter(X, y, c='mediumseagreen')\n",
    "plt.plot(X, y_pred, c='green')\n",
    "plt.show()"
   ]
  },
  {
   "cell_type": "code",
   "execution_count": 7,
   "metadata": {},
   "outputs": [
    {
     "data": {
      "image/png": "[encoded data removed]",
      "text/plain": [
       "<Figure size 432x288 with 1 Axes>"
      ]
     },
     "metadata": {
      "needs_background": "light"
     },
     "output_type": "display_data"
    }
   ],
   "source": [
    "X = data['newbalanceDest'].values.reshape(-1, 1)\n",
    "y = data['amount'].values.reshape(-1, 1)\n",
    "\n",
    "\n",
    "model = LinearRegression()\n",
    "model.fit(X, y)\n",
    "y_pred = model.predict(X)\n",
    "\n",
    "plt.scatter(X, y, c='mediumseagreen')\n",
    "plt.plot(X, y_pred, c='green')\n",
    "plt.show()"
   ]
  },
  {
   "cell_type": "markdown",
   "metadata": {},
   "source": [
    "### What is the distribution of the outcome? "
   ]
  },
  {
   "cell_type": "code",
   "execution_count": 8,
   "metadata": {},
   "outputs": [
    {
     "data": {
      "image/png": "[encoded data removed]",
      "text/plain": [
       "<Figure size 360x360 with 1 Axes>"
      ]
     },
     "metadata": {
      "needs_background": "light"
     },
     "output_type": "display_data"
    }
   ],
   "source": [
    "# Your response here\n",
    "plt.figure(figsize=(5,5))\n",
    "plt.title('Distribution of Fraud')\n",
    "ax = sns.distplot(data['isFraud'], color = 'g')"
   ]
  },
  {
   "cell_type": "code",
   "execution_count": 9,
   "metadata": {},
   "outputs": [
    {
     "data": {
      "text/plain": [
       "0    99883\n",
       "1      117\n",
       "Name: isFraud, dtype: int64"
      ]
     },
     "execution_count": 9,
     "metadata": {},
     "output_type": "execute_result"
    }
   ],
   "source": [
    "data['isFraud'].value_counts()"
   ]
  },
  {
   "cell_type": "markdown",
   "metadata": {},
   "source": [
    "### Clean the dataset. How are you going to integrate the time variable? Do you think the step (integer) coding in which it is given is appropriate?"
   ]
  },
  {
   "cell_type": "raw",
   "metadata": {},
   "source": [
    "# Your code here \n",
    "\n",
    "Q1 = data.quantile(0.25)\n",
    "Q3 = data.quantile(0.75)\n",
    "IQR = Q3 - Q1\n",
    "print(IQR) # IQR for each column"
   ]
  },
  {
   "cell_type": "raw",
   "metadata": {},
   "source": [
    "data = data[~((data < (Q1 - 1.5 * IQR)) | (data > (Q3 + 1.5 * IQR))).any(axis=1)]\n",
    "# calculated IQR score to filter out the outliers by keeping only valid values\n",
    "data.describe()"
   ]
  },
  {
   "cell_type": "code",
   "execution_count": 10,
   "metadata": {},
   "outputs": [
    {
     "data": {
      "text/plain": [
       "step                int64\n",
       "type               object\n",
       "amount            float64\n",
       "nameOrig           object\n",
       "oldbalanceOrg     float64\n",
       "newbalanceOrig    float64\n",
       "nameDest           object\n",
       "oldbalanceDest    float64\n",
       "newbalanceDest    float64\n",
       "isFraud             int64\n",
       "isFlaggedFraud      int64\n",
       "dtype: object"
      ]
     },
     "execution_count": 10,
     "metadata": {},
     "output_type": "execute_result"
    }
   ],
   "source": [
    "data.dtypes # step - maps a unit of time in the real world. In this case 1 step is 1 hour of time. Total steps 744 (30 days simulation)."
   ]
  },
  {
   "cell_type": "code",
   "execution_count": 11,
   "metadata": {},
   "outputs": [],
   "source": [
    "to_drop =['type','nameDest','nameOrig', 'isFlaggedFraud']\n",
    "data.drop(columns=to_drop,inplace=True,axis=1)"
   ]
  },
  {
   "cell_type": "code",
   "execution_count": 12,
   "metadata": {},
   "outputs": [
    {
     "data": {
      "text/html": [
       "<div>\n",
       "<style scoped>\n",
       "    .dataframe tbody tr th:only-of-type {\n",
       "        vertical-align: middle;\n",
       "    }\n",
       "\n",
       "    .dataframe tbody tr th {\n",
       "        vertical-align: top;\n",
       "    }\n",
       "\n",
       "    .dataframe thead th {\n",
       "        text-align: right;\n",
       "    }\n",
       "</style>\n",
       "<table border=\"1\" class=\"dataframe\">\n",
       "  <thead>\n",
       "    <tr style=\"text-align: right;\">\n",
       "      <th></th>\n",
       "      <th>step</th>\n",
       "      <th>amount</th>\n",
       "      <th>oldbalanceOrg</th>\n",
       "      <th>newbalanceOrig</th>\n",
       "      <th>oldbalanceDest</th>\n",
       "      <th>newbalanceDest</th>\n",
       "      <th>isFraud</th>\n",
       "    </tr>\n",
       "  </thead>\n",
       "  <tbody>\n",
       "    <tr>\n",
       "      <td>1517022</td>\n",
       "      <td>153</td>\n",
       "      <td>24678.78</td>\n",
       "      <td>0.00</td>\n",
       "      <td>0.00</td>\n",
       "      <td>0.00</td>\n",
       "      <td>0.00</td>\n",
       "      <td>0</td>\n",
       "    </tr>\n",
       "    <tr>\n",
       "      <td>1009117</td>\n",
       "      <td>46</td>\n",
       "      <td>19866.49</td>\n",
       "      <td>3349986.53</td>\n",
       "      <td>3369853.02</td>\n",
       "      <td>65976.05</td>\n",
       "      <td>46109.56</td>\n",
       "      <td>0</td>\n",
       "    </tr>\n",
       "    <tr>\n",
       "      <td>4393873</td>\n",
       "      <td>321</td>\n",
       "      <td>4333.88</td>\n",
       "      <td>169473.81</td>\n",
       "      <td>165139.93</td>\n",
       "      <td>0.00</td>\n",
       "      <td>0.00</td>\n",
       "      <td>0</td>\n",
       "    </tr>\n",
       "    <tr>\n",
       "      <td>2697318</td>\n",
       "      <td>211</td>\n",
       "      <td>20413.45</td>\n",
       "      <td>51128.00</td>\n",
       "      <td>30714.55</td>\n",
       "      <td>0.00</td>\n",
       "      <td>0.00</td>\n",
       "      <td>0</td>\n",
       "    </tr>\n",
       "    <tr>\n",
       "      <td>4321617</td>\n",
       "      <td>308</td>\n",
       "      <td>38136.21</td>\n",
       "      <td>78620.00</td>\n",
       "      <td>40483.79</td>\n",
       "      <td>0.00</td>\n",
       "      <td>0.00</td>\n",
       "      <td>0</td>\n",
       "    </tr>\n",
       "    <tr>\n",
       "      <td>25738</td>\n",
       "      <td>8</td>\n",
       "      <td>2336.74</td>\n",
       "      <td>0.00</td>\n",
       "      <td>0.00</td>\n",
       "      <td>0.00</td>\n",
       "      <td>0.00</td>\n",
       "      <td>0</td>\n",
       "    </tr>\n",
       "    <tr>\n",
       "      <td>1193525</td>\n",
       "      <td>132</td>\n",
       "      <td>206891.80</td>\n",
       "      <td>1074.00</td>\n",
       "      <td>0.00</td>\n",
       "      <td>0.00</td>\n",
       "      <td>206891.80</td>\n",
       "      <td>0</td>\n",
       "    </tr>\n",
       "    <tr>\n",
       "      <td>3113009</td>\n",
       "      <td>235</td>\n",
       "      <td>8870.44</td>\n",
       "      <td>0.00</td>\n",
       "      <td>0.00</td>\n",
       "      <td>4276346.59</td>\n",
       "      <td>4285217.03</td>\n",
       "      <td>0</td>\n",
       "    </tr>\n",
       "    <tr>\n",
       "      <td>5088949</td>\n",
       "      <td>355</td>\n",
       "      <td>90652.89</td>\n",
       "      <td>0.00</td>\n",
       "      <td>0.00</td>\n",
       "      <td>71746175.13</td>\n",
       "      <td>71836828.02</td>\n",
       "      <td>0</td>\n",
       "    </tr>\n",
       "    <tr>\n",
       "      <td>5605199</td>\n",
       "      <td>394</td>\n",
       "      <td>23591.51</td>\n",
       "      <td>439997.79</td>\n",
       "      <td>416406.28</td>\n",
       "      <td>0.00</td>\n",
       "      <td>0.00</td>\n",
       "      <td>0</td>\n",
       "    </tr>\n",
       "  </tbody>\n",
       "</table>\n",
       "</div>"
      ],
      "text/plain": [
       "         step     amount  oldbalanceOrg  newbalanceOrig  oldbalanceDest  \\\n",
       "1517022   153   24678.78           0.00            0.00            0.00   \n",
       "1009117    46   19866.49     3349986.53      3369853.02        65976.05   \n",
       "4393873   321    4333.88      169473.81       165139.93            0.00   \n",
       "2697318   211   20413.45       51128.00        30714.55            0.00   \n",
       "4321617   308   38136.21       78620.00        40483.79            0.00   \n",
       "25738       8    2336.74           0.00            0.00            0.00   \n",
       "1193525   132  206891.80        1074.00            0.00            0.00   \n",
       "3113009   235    8870.44           0.00            0.00      4276346.59   \n",
       "5088949   355   90652.89           0.00            0.00     71746175.13   \n",
       "5605199   394   23591.51      439997.79       416406.28            0.00   \n",
       "\n",
       "         newbalanceDest  isFraud  \n",
       "1517022            0.00        0  \n",
       "1009117        46109.56        0  \n",
       "4393873            0.00        0  \n",
       "2697318            0.00        0  \n",
       "4321617            0.00        0  \n",
       "25738              0.00        0  \n",
       "1193525       206891.80        0  \n",
       "3113009      4285217.03        0  \n",
       "5088949     71836828.02        0  \n",
       "5605199            0.00        0  "
      ]
     },
     "execution_count": 12,
     "metadata": {},
     "output_type": "execute_result"
    }
   ],
   "source": [
    "data.head(10)"
   ]
  },
  {
   "cell_type": "markdown",
   "metadata": {},
   "source": [
    "### Run a logisitc regression classifier and evaluate its accuracy."
   ]
  },
  {
   "cell_type": "code",
   "execution_count": 13,
   "metadata": {},
   "outputs": [],
   "source": [
    "# Your code here\n",
    "\n",
    "from sklearn.model_selection import train_test_split\n",
    "\n",
    "# Your code here:\n",
    "y = data['isFraud']\n",
    "X = data.drop(['isFraud'], axis = 1)\n",
    "X_train, X_test, y_train, y_test = train_test_split(X, y, test_size = 0.2)"
   ]
  },
  {
   "cell_type": "code",
   "execution_count": 16,
   "metadata": {},
   "outputs": [
    {
     "data": {
      "text/plain": [
       "array([0, 1], dtype=int64)"
      ]
     },
     "execution_count": 16,
     "metadata": {},
     "output_type": "execute_result"
    }
   ],
   "source": [
    "y_train.unique()"
   ]
  },
  {
   "cell_type": "code",
   "execution_count": 17,
   "metadata": {},
   "outputs": [
    {
     "name": "stderr",
     "output_type": "stream",
     "text": [
      "C:\\Users\\const\\Anaconda3\\envs\\ironhack\\lib\\site-packages\\sklearn\\linear_model\\logistic.py:432: FutureWarning: Default solver will be changed to 'lbfgs' in 0.22. Specify a solver to silence this warning.\n",
      "  FutureWarning)\n"
     ]
    },
    {
     "name": "stdout",
     "output_type": "stream",
     "text": [
      "Logistic Regression Test Accuracy 99.96%\n"
     ]
    },
    {
     "name": "stderr",
     "output_type": "stream",
     "text": [
      "C:\\Users\\const\\Anaconda3\\envs\\ironhack\\lib\\site-packages\\sklearn\\svm\\base.py:929: ConvergenceWarning: Liblinear failed to converge, increase the number of iterations.\n",
      "  \"the number of iterations.\", ConvergenceWarning)\n"
     ]
    }
   ],
   "source": [
    "from sklearn.linear_model import LogisticRegression\n",
    "\n",
    "lr = LogisticRegression()\n",
    "lr.fit(X_train,y_train) \n",
    "acc = lr.score(X_test,y_test)*100                            \n",
    "\n",
    "print(f\"Logistic Regression Test Accuracy {round(acc, 2)}%\")"
   ]
  },
  {
   "cell_type": "markdown",
   "metadata": {},
   "source": [
    "### Now pick a model of your choice and evaluate its accuracy."
   ]
  },
  {
   "cell_type": "code",
   "execution_count": 24,
   "metadata": {},
   "outputs": [
    {
     "name": "stdout",
     "output_type": "stream",
     "text": [
      "3 neighbors KNN Score: 99.93%\n"
     ]
    }
   ],
   "source": [
    "# Your code here\n",
    "from sklearn.neighbors import KNeighborsClassifier\n",
    "\n",
    "knn = KNeighborsClassifier(n_neighbors = 2)  # n_neighbors means k\n",
    "knn.fit(X_train, y_train)\n",
    "y_pred = knn.predict(X_test)\n",
    "\n",
    "acc = knn.score(X_test, y_test)*100\n",
    "print(f\"3 neighbors KNN Score: {round(acc,2)}%\")"
   ]
  },
  {
   "cell_type": "markdown",
   "metadata": {},
   "source": [
    "### Which model worked better and how do you know?"
   ]
  },
  {
   "cell_type": "raw",
   "metadata": {},
   "source": [
    "# Your response here\n",
    "\n",
    "The dataset is so unbalanced that it doesn't really matter. Both models return a high accuracy (also when I change k in KNeighbors."
   ]
  }
 ],
 "metadata": {
  "kernelspec": {
   "display_name": "Python 3",
   "language": "python",
   "name": "python3"
  },
  "language_info": {
   "codemirror_mode": {
    "name": "ipython",
    "version": 3
   },
   "file_extension": ".py",
   "mimetype": "text/x-python",
   "name": "python",
   "nbconvert_exporter": "python",
   "pygments_lexer": "ipython3",
   "version": "3.7.4"
  }
 },
 "nbformat": 4,
 "nbformat_minor": 2
}
